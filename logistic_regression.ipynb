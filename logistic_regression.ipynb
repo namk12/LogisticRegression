{
  "nbformat": 4,
  "nbformat_minor": 0,
  "metadata": {
    "kernelspec": {
      "display_name": "Python 3",
      "language": "python",
      "name": "python3"
    },
    "language_info": {
      "codemirror_mode": {
        "name": "ipython",
        "version": 3
      },
      "file_extension": ".py",
      "mimetype": "text/x-python",
      "name": "python",
      "nbconvert_exporter": "python",
      "pygments_lexer": "ipython3",
      "version": "3.9.0"
    },
    "colab": {
      "name": "logistic-regressionhw4.ipynb",
      "provenance": [],
      "collapsed_sections": []
    }
  },
  "cells": [
    {
      "cell_type": "markdown",
      "metadata": {
        "id": "4Kuj0ScXUq9Y"
      },
      "source": [
        "# Logistic Regression \n",
        "\n",
        "Dataset Source(Breast Cancer Dataset): https://archive.ics.uci.edu/ml/machine-learning-databases/breast-cancer-wisconsin"
      ]
    },
    {
      "cell_type": "code",
      "metadata": {
        "id": "4Hv1KCtbUq9n"
      },
      "source": [
        "from sklearn.datasets import load_breast_cancer\n",
        "from sklearn import preprocessing\n",
        "from sklearn.model_selection import train_test_split \n",
        "import numpy as np\n",
        "import math\n",
        "\n",
        "import matplotlib.pyplot as plt\n",
        "%matplotlib inline\n",
        "\n",
        "from sklearn.metrics import confusion_matrix"
      ],
      "execution_count": null,
      "outputs": []
    },
    {
      "cell_type": "code",
      "metadata": {
        "id": "5gOl-z0cUq9p"
      },
      "source": [
        "# Loading the dataset\n",
        "cancer = load_breast_cancer()\n",
        "y = cancer.target\n",
        "X = cancer.data"
      ],
      "execution_count": null,
      "outputs": []
    },
    {
      "cell_type": "code",
      "metadata": {
        "colab": {
          "base_uri": "https://localhost:8080/"
        },
        "id": "viZSO4QhUq9p",
        "outputId": "09cd7033-8448-43b8-89dc-5581be3a8b76"
      },
      "source": [
        "# Printing the shape of data (X) and target (Y) values \n",
        "print(X.shape)\n",
        "print(y.shape)"
      ],
      "execution_count": null,
      "outputs": [
        {
          "output_type": "stream",
          "text": [
            "(569, 30)\n",
            "(569,)\n"
          ],
          "name": "stdout"
        }
      ]
    },
    {
      "cell_type": "markdown",
      "metadata": {
        "id": "3lTkljQrUq9q"
      },
      "source": [
        "### Data Pre-Processing\n",
        "#### Splitting the data into train and test before scaling the dataset\n"
      ]
    },
    {
      "cell_type": "code",
      "metadata": {
        "id": "DIrAW7XrUq9t"
      },
      "source": [
        "\n",
        "X_train, X_test, y_train, y_test = train_test_split(X, y,random_state=42)"
      ],
      "execution_count": null,
      "outputs": []
    },
    {
      "cell_type": "markdown",
      "metadata": {
        "id": "9oGoJVOdUq9u"
      },
      "source": [
        "#### Scale the data since we will be using gradient ascent"
      ]
    },
    {
      "cell_type": "code",
      "metadata": {
        "id": "qjh1rt_yUq9v"
      },
      "source": [
        "scaler = preprocessing.StandardScaler().fit(X_train)\n",
        "X_train = scaler.transform(X_train)\n",
        "X_test = scaler.transform(X_test)"
      ],
      "execution_count": null,
      "outputs": []
    },
    {
      "cell_type": "code",
      "metadata": {
        "colab": {
          "base_uri": "https://localhost:8080/"
        },
        "id": "Elg4BjJkUq9v",
        "outputId": "fe39711e-1045-4bbf-c425-280c8ace5ae3"
      },
      "source": [
        "print(X_train.shape)\n",
        "print(y_train.shape)\n",
        "print(y_test)"
      ],
      "execution_count": null,
      "outputs": [
        {
          "output_type": "stream",
          "text": [
            "(426, 30)\n",
            "(426,)\n",
            "[1 0 0 1 1 0 0 0 1 1 1 0 1 0 1 0 1 1 1 0 0 1 0 1 1 1 1 1 1 0 1 1 1 1 1 1 0\n",
            " 1 0 1 1 0 1 1 1 1 1 1 1 1 0 0 1 1 1 1 1 0 0 1 1 0 0 1 1 1 0 0 1 1 0 0 1 0\n",
            " 1 1 1 0 1 1 0 1 0 0 0 0 0 0 1 1 1 1 1 1 1 1 0 0 1 0 0 1 0 0 1 1 1 0 1 1 0\n",
            " 1 1 0 1 0 1 1 1 0 1 1 1 0 1 0 0 1 1 0 0 0 1 1 1 0 1 1 1 0 1 0 1]\n"
          ],
          "name": "stdout"
        }
      ]
    },
    {
      "cell_type": "code",
      "metadata": {
        "colab": {
          "base_uri": "https://localhost:8080/"
        },
        "id": "ArPwgY0eUq9w",
        "outputId": "6c4f42d6-6ad3-4735-d1e1-9a5918375339"
      },
      "source": [
        "# Appending a column of ones to x_train \n",
        "\n",
        "ones = np.ones(X_train.shape[0]).reshape((X_train.shape[0], 1))\n",
        "\n",
        "X_train = np.hstack((ones, X_train))\n",
        "\n",
        "ones = np.ones(X_test.shape[0]).reshape((X_test.shape[0], 1))\n",
        "X_test = np.hstack((ones, X_test))\n",
        "\n",
        "\n",
        "print(\"The training data has dimensions: \", X_train.shape, \". The testing data has dimensions: \",X_test.shape)\n",
        "print(X_train[0:2])"
      ],
      "execution_count": null,
      "outputs": [
        {
          "output_type": "stream",
          "text": [
            "The training data has dimensions:  (426, 31) . The testing data has dimensions:  (143, 31)\n",
            "[[ 1.         -0.34913849 -1.43851335 -0.41172595 -0.39047943 -1.86366229\n",
            "  -1.26860704 -0.82617052 -0.95286585 -1.72936805 -0.9415409  -0.86971355\n",
            "  -1.35865347 -0.83481506 -0.57230673 -0.74586846 -0.65398319 -0.52583524\n",
            "  -0.94677147 -0.53781728 -0.63449458 -0.54268486 -1.65565452 -0.58986401\n",
            "  -0.52555985 -1.51066925 -0.89149994 -0.75021715 -0.91671059 -0.92508585\n",
            "  -0.80841115]\n",
            " [ 1.         -0.20468665  0.31264011 -0.13367256 -0.27587995  1.07807258\n",
            "   0.86354605  0.72631375  0.89844062  1.17876963  1.47437716 -0.04022275\n",
            "  -0.50962253  0.10947722 -0.13472838 -0.52489487 -0.14934475  0.07460028\n",
            "   0.23747244 -0.43028253  0.08289146  0.04148684  0.68989862  0.19412774\n",
            "  -0.05193356  1.12941497  0.92394223  1.22221738  1.43655962  1.14955889\n",
            "   1.56911143]]\n"
          ],
          "name": "stdout"
        }
      ]
    },
    {
      "cell_type": "code",
      "metadata": {
        "colab": {
          "base_uri": "https://localhost:8080/"
        },
        "id": "cXZvqQi_Uq9x",
        "outputId": "8719c874-e30e-47a4-c8dc-b69d7e46057b"
      },
      "source": [
        "# Printing the names of all the features\n",
        "print(cancer.feature_names)"
      ],
      "execution_count": null,
      "outputs": [
        {
          "output_type": "stream",
          "text": [
            "['mean radius' 'mean texture' 'mean perimeter' 'mean area'\n",
            " 'mean smoothness' 'mean compactness' 'mean concavity'\n",
            " 'mean concave points' 'mean symmetry' 'mean fractal dimension'\n",
            " 'radius error' 'texture error' 'perimeter error' 'area error'\n",
            " 'smoothness error' 'compactness error' 'concavity error'\n",
            " 'concave points error' 'symmetry error' 'fractal dimension error'\n",
            " 'worst radius' 'worst texture' 'worst perimeter' 'worst area'\n",
            " 'worst smoothness' 'worst compactness' 'worst concavity'\n",
            " 'worst concave points' 'worst symmetry' 'worst fractal dimension']\n"
          ],
          "name": "stdout"
        }
      ]
    },
    {
      "cell_type": "code",
      "metadata": {
        "id": "LJUX15QWUq9y"
      },
      "source": [
        "# You can add your own code here to better understand the dataset"
      ],
      "execution_count": null,
      "outputs": []
    },
    {
      "cell_type": "markdown",
      "metadata": {
        "id": "eSOSzOAkUq9y"
      },
      "source": [
        "\n",
        "# Fitting the model\n",
        "## Logistic Regression Using Gradient Ascent"
      ]
    },
    {
      "cell_type": "code",
      "metadata": {
        "colab": {
          "base_uri": "https://localhost:8080/"
        },
        "id": "a8X9KJ4PUq9z",
        "outputId": "6e44396f-8d40-4d7a-c2c9-a3903eee2e68"
      },
      "source": [
        "def sigmoid(z):\n",
        "    ## TODO\n",
        "    res = np.zeros((z.shape))\n",
        "    for i in range(0,z.shape[0]):\n",
        "      num = 1/(1+math.exp(-z[i][0]))\n",
        "      res[i][0] = num\n",
        "    return res\n",
        "    \n",
        "    ## \n",
        "print(sigmoid(np.array([[8.8],[9.0],[12.7],[9.7]])))"
      ],
      "execution_count": null,
      "outputs": [
        {
          "output_type": "stream",
          "text": [
            "[[0.99984929]\n",
            " [0.99987661]\n",
            " [0.99999695]\n",
            " [0.99993872]]\n"
          ],
          "name": "stdout"
        }
      ]
    },
    {
      "cell_type": "code",
      "metadata": {
        "colab": {
          "base_uri": "https://localhost:8080/"
        },
        "id": "CqMmQuqDUq90",
        "outputId": "0e83a366-7419-4b42-f0dc-87280e2dd27b"
      },
      "source": [
        "#Testing Sigmoid\n",
        "import math\n",
        "ans = math.log(0.99984929)+math.log(0.99987661)+math.log(1-0.99999695)+math.log(1-0.99993872)\n",
        "print(ans)\n",
        "print(sigmoid(np.array([[0]])))"
      ],
      "execution_count": null,
      "outputs": [
        {
          "output_type": "stream",
          "text": [
            "-22.40070011884565\n",
            "[[0.5]]\n"
          ],
          "name": "stdout"
        }
      ]
    },
    {
      "cell_type": "code",
      "metadata": {
        "colab": {
          "base_uri": "https://localhost:8080/"
        },
        "id": "uO8H6RbvUq90",
        "outputId": "053b1903-9104-4f00-cf08-4a84807f07b5"
      },
      "source": [
        "# Initialize parameters w\n",
        "rng = np.random.default_rng(seed=42)\n",
        "w = rng.random((X_train.shape[1], 1))/10\n",
        "print(w.shape)"
      ],
      "execution_count": null,
      "outputs": [
        {
          "output_type": "stream",
          "text": [
            "(31, 1)\n"
          ],
          "name": "stdout"
        }
      ]
    },
    {
      "cell_type": "code",
      "metadata": {
        "id": "ILr40_4VUq92"
      },
      "source": [
        "def hypothesis(X , w):\n",
        "    #TODO\n",
        "    pdt = np.dot(X,w)\n",
        "    res = sigmoid(pdt) \n",
        "    return res\n",
        "    ##"
      ],
      "execution_count": null,
      "outputs": []
    },
    {
      "cell_type": "code",
      "metadata": {
        "colab": {
          "base_uri": "https://localhost:8080/"
        },
        "id": "viXEfOSUUq93",
        "outputId": "d77cf1f5-29eb-44be-b615-75f666afceaa"
      },
      "source": [
        "yhat = hypothesis(X_train, w)\n",
        "print(yhat.shape) # should return (426, 1)\n",
        "print(y_train.shape) # should return (426,)"
      ],
      "execution_count": null,
      "outputs": [
        {
          "output_type": "stream",
          "text": [
            "(426, 1)\n",
            "(426,)\n"
          ],
          "name": "stdout"
        }
      ]
    },
    {
      "cell_type": "code",
      "metadata": {
        "id": "u_LgfGoHUq93"
      },
      "source": [
        "def log_likelihood(X , y , w ):\n",
        "    N = X.shape[0]\n",
        "    ans = 0\n",
        "    yhat = hypothesis(X, w)\n",
        "    for i in range(0,N):\n",
        "      ans += y[i]*np.log(yhat[i][0]) + (1-y[i])*np.log(1-yhat[i][0])\n",
        "    \n",
        "    ##\n",
        "    return ans"
      ],
      "execution_count": null,
      "outputs": []
    },
    {
      "cell_type": "code",
      "metadata": {
        "colab": {
          "base_uri": "https://localhost:8080/"
        },
        "id": "1u2GGSv1Uq94",
        "outputId": "ee52a176-42b9-466a-afe7-537490fc2c07"
      },
      "source": [
        "print(y_train.shape)\n",
        "print(log_likelihood(X_train,y_train,w))"
      ],
      "execution_count": null,
      "outputs": [
        {
          "output_type": "stream",
          "text": [
            "(426,)\n",
            "-496.06217331717187\n"
          ],
          "name": "stdout"
        }
      ]
    },
    {
      "cell_type": "markdown",
      "metadata": {
        "id": "KWGYrv6_Uq94"
      },
      "source": [
        "# Gradient Ascent\n"
      ]
    },
    {
      "cell_type": "code",
      "metadata": {
        "id": "l_S4gg82xagg"
      },
      "source": [
        "def eval(X,y,yhat,j):\n",
        "  res = 0\n",
        "  for i in range(0,y.shape[0]):\n",
        "    res+=(y[i]-yhat[i][0])*X[i][j]\n",
        "  return res"
      ],
      "execution_count": null,
      "outputs": []
    },
    {
      "cell_type": "code",
      "metadata": {
        "id": "G5dY0eIPUq95"
      },
      "source": [
        "def Logistic_Regresion_Gradient_Ascent(X, y, learning_rate, num_iters):\n",
        "    log_likelihood_values = []  \n",
        "    rng = np.random.default_rng(seed=42)\n",
        "    w = rng.random((X_train.shape[1],1))/10\n",
        "    N = X.shape[0] \n",
        "    \n",
        "    for i in range(0,num_iters):\n",
        "      yhat = hypothesis(X, w)\n",
        "      for j in range(0,X.shape[1]):\n",
        "        \n",
        "        w[j] = w[j] + eval(X,y,yhat,j)*learning_rate/N\n",
        "    \n",
        "      if (i % 100) == 0:\n",
        "        log_likelihood_values.append(log_likelihood(X,y,w))\n",
        "        \n",
        "    return w, log_likelihood_values"
      ],
      "execution_count": null,
      "outputs": []
    },
    {
      "cell_type": "markdown",
      "metadata": {
        "id": "jLW6fHKAUq95"
      },
      "source": [
        "### After completing the code above, run the following"
      ]
    },
    {
      "cell_type": "code",
      "metadata": {
        "colab": {
          "base_uri": "https://localhost:8080/"
        },
        "id": "1R4qkvOLUq95",
        "outputId": "9c68be06-e53a-4ea7-83e7-857dfbb8df57"
      },
      "source": [
        "learning_rate = 0.5\n",
        "num_iters = 5000 # The number of iterations to run the gradient ascent algorithm\n",
        "\n",
        "w, log_likelihood_values = Logistic_Regresion_Gradient_Ascent(X_train, y_train, learning_rate, num_iters)\n",
        "print(w)\n",
        "# print(log_likelihood_values)"
      ],
      "execution_count": null,
      "outputs": [
        {
          "output_type": "stream",
          "text": [
            "[[-0.10479362]\n",
            " [-0.03876021]\n",
            " [-0.05931612]\n",
            " [ 0.19066917]\n",
            " [-0.34539014]\n",
            " [-0.44745888]\n",
            " [ 2.75083031]\n",
            " [-1.27350697]\n",
            " [-3.06118235]\n",
            " [ 1.16882442]\n",
            " [-0.85836464]\n",
            " [-3.71949066]\n",
            " [ 0.72063014]\n",
            " [-0.81754043]\n",
            " [-2.4839662 ]\n",
            " [-0.40500676]\n",
            " [ 0.53382685]\n",
            " [ 0.02137751]\n",
            " [-1.26320739]\n",
            " [ 1.31331007]\n",
            " [ 2.09619967]\n",
            " [-1.66686363]\n",
            " [-2.83819903]\n",
            " [-0.17185777]\n",
            " [-1.75059055]\n",
            " [-0.16434872]\n",
            " [ 0.73167858]\n",
            " [-2.46764169]\n",
            " [-1.32369088]\n",
            " [-3.00233008]\n",
            " [-0.37376298]]\n"
          ],
          "name": "stdout"
        }
      ]
    },
    {
      "cell_type": "code",
      "metadata": {
        "colab": {
          "base_uri": "https://localhost:8080/"
        },
        "id": "0dme8d0E1PF3",
        "outputId": "51ceceb4-2b59-4cb2-a539-45af5fb42a2e"
      },
      "source": [
        "print(np.array(log_likelihood_values).shape)\n",
        "print(y_test)"
      ],
      "execution_count": null,
      "outputs": [
        {
          "output_type": "stream",
          "text": [
            "(50,)\n",
            "[1 0 0 1 1 0 0 0 1 1 1 0 1 0 1 0 1 1 1 0 0 1 0 1 1 1 1 1 1 0 1 1 1 1 1 1 0\n",
            " 1 0 1 1 0 1 1 1 1 1 1 1 1 0 0 1 1 1 1 1 0 0 1 1 0 0 1 1 1 0 0 1 1 0 0 1 0\n",
            " 1 1 1 0 1 1 0 1 0 0 0 0 0 0 1 1 1 1 1 1 1 1 0 0 1 0 0 1 0 0 1 1 1 0 1 1 0\n",
            " 1 1 0 1 0 1 1 1 0 1 1 1 0 1 0 0 1 1 0 0 0 1 1 1 0 1 1 1 0 1 0 1]\n"
          ],
          "name": "stdout"
        }
      ]
    },
    {
      "cell_type": "markdown",
      "metadata": {
        "id": "bX-2LrPdUq96"
      },
      "source": [
        "# Plotting Likelihood v/s Number of Iterations."
      ]
    },
    {
      "cell_type": "code",
      "metadata": {
        "colab": {
          "base_uri": "https://localhost:8080/",
          "height": 312
        },
        "id": "ti9KcSkgUq96",
        "outputId": "e1c65b2e-2bc6-4efe-cd5d-5498280529a9"
      },
      "source": [
        "iters = np.array(range(0,num_iters,100))\n",
        "print(iters.shape)\n",
        "plt.plot(iters,log_likelihood_values,'.-',color='green')\n",
        "plt.xlabel('Number of iterations')\n",
        "plt.ylabel('Likelihood')\n",
        "plt.title(\"Likelihood vs Number of Iterations.\")\n",
        "plt.grid()"
      ],
      "execution_count": null,
      "outputs": [
        {
          "output_type": "stream",
          "text": [
            "(50,)\n"
          ],
          "name": "stdout"
        },
        {
          "output_type": "display_data",
          "data": {
            "image/png": "[encoded data removed]",
            "text/plain": [
              "<Figure size 432x288 with 1 Axes>"
            ]
          },
          "metadata": {
            "tags": [],
            "needs_background": "light"
          }
        }
      ]
    },
    {
      "cell_type": "code",
      "metadata": {
        "colab": {
          "base_uri": "https://localhost:8080/"
        },
        "id": "OK7iK4oIUq99",
        "outputId": "f3d71781-b334-4a6a-b5d1-63667c1e2ee0"
      },
      "source": [
        "hx = hypothesis(X_test, w)\n",
        "print(y_test)\n",
        "hx[hx>0.5] = 1\n",
        "hx[hx<=0.5] = 0\n",
        "tn, fp, fn, tp = confusion_matrix(y_test,hx).ravel()\n",
        "print(confusion_matrix(y_test,hx).ravel())\n",
        "tpr = tp/(tp+fn)\n",
        "print(tpr)\n",
        "\n",
        "fpr = fp/(tn+fp)\n",
        "print(fpr)"
      ],
      "execution_count": null,
      "outputs": [
        {
          "output_type": "stream",
          "text": [
            "[1 0 0 1 1 0 0 0 1 1 1 0 1 0 1 0 1 1 1 0 0 1 0 1 1 1 1 1 1 0 1 1 1 1 1 1 0\n",
            " 1 0 1 1 0 1 1 1 1 1 1 1 1 0 0 1 1 1 1 1 0 0 1 1 0 0 1 1 1 0 0 1 1 0 0 1 0\n",
            " 1 1 1 0 1 1 0 1 0 0 0 0 0 0 1 1 1 1 1 1 1 1 0 0 1 0 0 1 0 0 1 1 1 0 1 1 0\n",
            " 1 1 0 1 0 1 1 1 0 1 1 1 0 1 0 0 1 1 0 0 0 1 1 1 0 1 1 1 0 1 0 1]\n",
            "[53  1  3 86]\n",
            "0.9662921348314607\n",
            "0.018518518518518517\n"
          ],
          "name": "stdout"
        }
      ]
    },
    {
      "cell_type": "code",
      "metadata": {
        "id": "czbB_WXuUq9-"
      },
      "source": [
        ""
      ],
      "execution_count": null,
      "outputs": []
    }
  ]
}